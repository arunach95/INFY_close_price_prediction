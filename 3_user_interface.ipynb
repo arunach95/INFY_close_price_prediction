{
 "cells": [
  {
   "cell_type": "code",
   "execution_count": 1,
   "metadata": {},
   "outputs": [
    {
     "name": "stderr",
     "output_type": "stream",
     "text": [
      "c:\\Users\\abhil\\AppData\\Local\\Programs\\Python\\Python310\\lib\\site-packages\\tqdm\\auto.py:21: TqdmWarning: IProgress not found. Please update jupyter and ipywidgets. See https://ipywidgets.readthedocs.io/en/stable/user_install.html\n",
      "  from .autonotebook import tqdm as notebook_tqdm\n"
     ]
    }
   ],
   "source": [
    "# import statements\n",
    "from selenium.webdriver.chrome.service import Service\n",
    "from selenium.webdriver.chrome.options import Options\n",
    "from webdriver_manager.chrome import ChromeDriverManager\n",
    "from selenium import webdriver\n",
    "from selenium.webdriver.common.by import By\n",
    "import time\n",
    "import torch # for finbert model\n",
    "from transformers import BertTokenizer, BertForSequenceClassification\n",
    "from transformers import pipeline\n",
    "import pandas as pd\n",
    "from selenium.webdriver.support.ui import WebDriverWait\n",
    "from selenium.webdriver.support import expected_conditions as EC\n",
    "import pickle\n",
    "import numpy as np"
   ]
  },
  {
   "cell_type": "markdown",
   "metadata": {},
   "source": [
    "First get the four columns sentiment_score, sentiment_positive, sentiment_negative and senitment_neutral by scraping the news page and finding the most frequent sentiment and its score"
   ]
  },
  {
   "cell_type": "code",
   "execution_count": 29,
   "metadata": {},
   "outputs": [],
   "source": [
    "# Set Chrome options\n",
    "chrome_options = Options()\n",
    "chrome_options.add_argument(\"--headless\")  # Run in headless mode (no UI)\n",
    "\n",
    "driver = webdriver.Chrome(service = Service(ChromeDriverManager().install()))\n",
    "# driver = webdriver.Chrome(service = Service(ChromeDriverManager().install()), options=chrome_options)"
   ]
  },
  {
   "cell_type": "code",
   "execution_count": 30,
   "metadata": {},
   "outputs": [],
   "source": [
    "# Step 1: Open Google's homepage\n",
    "driver.get(\"https://news.google.com/search?q=infosys%20when%3A1d&hl=en-IN&gl=IN&ceid=IN%3Aen\")\n",
    "time.sleep(3) "
   ]
  },
  {
   "cell_type": "code",
   "execution_count": 31,
   "metadata": {},
   "outputs": [
    {
     "name": "stdout",
     "output_type": "stream",
     "text": [
      "Leaked hiring memo sparks outrage over elite-only recruitment; blacklists Infosys, TCS, Wipro, Cognizant\n",
      "IT Giant To Announce Q4FY25 Results, Final Dividend Recommendation; Check Dates For Infosys Q4 Updates\n",
      "Infosys Share Price Highlights : Infosys closed today at ₹1631.70, up 2.48% from yesterday's ₹1592.20 | Stock Market News\n",
      "Infosys, Wipro, TCS among tech giants blacklisted in US recruiter's leaked email: 'Not the right fit'\n",
      "Sensex, Nifty Extend Winning Streak: HDFC Bank, Infosys Lead\n"
     ]
    }
   ],
   "source": [
    "# Extract article titles\n",
    "articles = driver.find_elements(By.CLASS_NAME, \"JtKRv\")  # Target anchor tags with class \"JtKRv\"\n",
    "\n",
    "# Extract and print the titles\n",
    "for article in articles[:5]:\n",
    "    title = article.text  # Extract the text inside the <a> tag\n",
    "    print(title)"
   ]
  },
  {
   "cell_type": "code",
   "execution_count": 32,
   "metadata": {},
   "outputs": [
    {
     "data": {
      "text/plain": [
       "45"
      ]
     },
     "execution_count": 32,
     "metadata": {},
     "output_type": "execute_result"
    }
   ],
   "source": [
    "len(articles) # no. of articles"
   ]
  },
  {
   "cell_type": "code",
   "execution_count": 26,
   "metadata": {},
   "outputs": [
    {
     "name": "stderr",
     "output_type": "stream",
     "text": [
      "Device set to use cpu\n"
     ]
    }
   ],
   "source": [
    "# Load FinBERT model\n",
    "MODEL_NAME = \"ProsusAI/finbert\"\n",
    "tokenizer = BertTokenizer.from_pretrained(MODEL_NAME)\n",
    "model = BertForSequenceClassification.from_pretrained(MODEL_NAME)\n",
    "\n",
    "# Load the pre-trained FinBERT model\n",
    "sentiment_analyzer = pipeline(\"sentiment-analysis\", model=model, tokenizer=tokenizer)"
   ]
  },
  {
   "cell_type": "code",
   "execution_count": null,
   "metadata": {},
   "outputs": [],
   "source": [
    "# Extract text from articles web elements\n",
    "articles_text = [article.text for article in articles]\n",
    "driver.quit()\n",
    "\n",
    "# Perform sentiment analysis\n",
    "results = sentiment_analyzer(articles_text)"
   ]
  },
  {
   "cell_type": "code",
   "execution_count": null,
   "metadata": {},
   "outputs": [],
   "source": [
    "# Extract sentiment labels and scores\n",
    "current_news_labels = [result[\"label\"] for result in results] # sentiments\n",
    "current_news_scores = [result[\"score\"] for result in results]"
   ]
  },
  {
   "cell_type": "code",
   "execution_count": 39,
   "metadata": {},
   "outputs": [
    {
     "name": "stdout",
     "output_type": "stream",
     "text": [
      "The mode for the 'Sentiment' is: neutral\n"
     ]
    }
   ],
   "source": [
    "# finding the mode for 'sentiment' \n",
    "labels_series = pd.Series(current_news_labels)\n",
    "sentiment_mode = labels_series.mode()[0]\n",
    "\n",
    "print(f\"The mode for the 'Sentiment' is: {sentiment_mode}\")"
   ]
  },
  {
   "cell_type": "code",
   "execution_count": 40,
   "metadata": {},
   "outputs": [
    {
     "name": "stdout",
     "output_type": "stream",
     "text": [
      "The mode for the 'Sentiment' column is: neutral\n",
      "The mean sentiment score for the mode 'neutral' is: 0.7947584199905395\n"
     ]
    }
   ],
   "source": [
    "# Convert the list of labels and scores to a DataFrame\n",
    "df = pd.DataFrame({'Sentiment': current_news_labels, 'Sentiment Score': current_news_scores})\n",
    "\n",
    "# Find the mode of the sentiment labels\n",
    "sentiment_mode = df['Sentiment'].mode()[0]\n",
    "\n",
    "# Filter the DataFrame to only include rows where the sentiment is equal to the mode\n",
    "sentiment_mode_data = df[df['Sentiment'] == sentiment_mode]\n",
    "\n",
    "# Calculate the mean of the sentiment scores for the mode\n",
    "mean_sentiment_score = sentiment_mode_data['Sentiment Score'].mean()\n",
    "\n",
    "print(f\"The mode for the 'Sentiment' column is: {sentiment_mode}\")\n",
    "print(f\"The mean sentiment score for the mode '{sentiment_mode}' is: {mean_sentiment_score}\")"
   ]
  },
  {
   "cell_type": "code",
   "execution_count": 41,
   "metadata": {},
   "outputs": [
    {
     "name": "stdout",
     "output_type": "stream",
     "text": [
      "False False True\n"
     ]
    }
   ],
   "source": [
    "sentiment_positive = sentiment_mode =='positive'\n",
    "sentiment_negative = sentiment_mode =='negative'\n",
    "sentiment_neutral = sentiment_mode =='neutral'\n",
    "\n",
    "print(sentiment_positive, sentiment_negative, sentiment_neutral)"
   ]
  },
  {
   "cell_type": "markdown",
   "metadata": {},
   "source": [
    "Now, scrape NSE website to get the other columns like OPEN, HIGH, LOW, PREV. CLOSE, ltp, close, vwap"
   ]
  },
  {
   "cell_type": "code",
   "execution_count": 2,
   "metadata": {},
   "outputs": [],
   "source": [
    "# Set Chrome options\n",
    "chrome_options = Options()\n",
    "chrome_options.add_argument(\"--headless\")  # Run in headless mode (no UI)\n",
    "chrome_options.add_argument(\"user-agent=Mozilla/5.0 (Windows NT 10.0; Win64; x64) AppleWebKit/537.36 (KHTML, like Gecko) Chrome/91.0.4472.124 Safari/537.36\")\n",
    "\n",
    "driver = webdriver.Chrome(service = Service(ChromeDriverManager().install()), options=chrome_options)"
   ]
  },
  {
   "cell_type": "code",
   "execution_count": 3,
   "metadata": {},
   "outputs": [],
   "source": [
    "# Navigate to the page\n",
    "driver.get(\"https://www.nseindia.com/get-quotes/equity?symbol=INFY\")\n",
    "time.sleep(5)"
   ]
  },
  {
   "cell_type": "code",
   "execution_count": 4,
   "metadata": {},
   "outputs": [],
   "source": [
    "# store all the extracted values in a Dictionary\n",
    "data = {}\n",
    "try:\n",
    "    # Extracting the \"Last Traded Price (LTP)\"\n",
    "    ltp_element = WebDriverWait(driver, 15).until(\n",
    "        EC.visibility_of_element_located((By.ID, \"quoteLtp\"))\n",
    "    )\n",
    "    ltp = ltp_element.text\n",
    "    data[\"Last Traded Price (LTP)\"] = ltp\n",
    "    \n",
    "    # Extracting the \"Price Info Status\" (Change in price and percentage)\n",
    "    price_info_status = driver.find_element(By.ID, \"priceInfoStatus\").text\n",
    "    data[\"Price Info Status\"] = price_info_status\n",
    "    \n",
    "    # Extracting values from the table\n",
    "    table_xpath = '//table[@id=\"priceInfoTable\"]/tbody/tr/td'\n",
    "    table_cells = driver.find_elements(By.XPATH, table_xpath)\n",
    "\n",
    "    # Mapping table headers to extracted values\n",
    "    table_headers = [\"Prev. Close\", \"Open\", \"High\", \"Low\", \"Close\", \"Indicative Close\", \"VWAP\", \"Adjusted Price\"]\n",
    "    table_values = [cell.text for cell in table_cells]\n",
    "\n",
    "    for header, value in zip(table_headers, table_values):\n",
    "        data[header] = value\n",
    "\n",
    "except Exception as e:\n",
    "    print(\"Error occurred:\", str(e))\n",
    "\n",
    "finally:\n",
    "    # Quit the driver after execution\n",
    "    driver.quit()"
   ]
  },
  {
   "cell_type": "code",
   "execution_count": 5,
   "metadata": {},
   "outputs": [
    {
     "name": "stdout",
     "output_type": "stream",
     "text": [
      "{'Last Traded Price (LTP)': '1,569.00', 'Price Info Status': '-34.55 (-2.15 %)', 'Prev. Close': '1,603.55', 'Open': '1,590.00', 'High': '1,598.45', 'Low': '1,560.00', 'Close': '1,570.65', 'Indicative Close': '-', 'VWAP': '1,576.42', 'Adjusted Price': '-'}\n"
     ]
    }
   ],
   "source": [
    "print(data)"
   ]
  },
  {
   "cell_type": "markdown",
   "metadata": {},
   "source": [
    "## Make the Prediction"
   ]
  },
  {
   "cell_type": "code",
   "execution_count": 49,
   "metadata": {},
   "outputs": [],
   "source": [
    "# load the saved model\n",
    "with open(\"stock_price_model.pkl\", \"rb\") as file:\n",
    "    stock_model = pickle.load(file)"
   ]
  },
  {
   "cell_type": "code",
   "execution_count": 62,
   "metadata": {},
   "outputs": [
    {
     "data": {
      "text/html": [
       "<div>\n",
       "<style scoped>\n",
       "    .dataframe tbody tr th:only-of-type {\n",
       "        vertical-align: middle;\n",
       "    }\n",
       "\n",
       "    .dataframe tbody tr th {\n",
       "        vertical-align: top;\n",
       "    }\n",
       "\n",
       "    .dataframe thead th {\n",
       "        text-align: right;\n",
       "    }\n",
       "</style>\n",
       "<table border=\"1\" class=\"dataframe\">\n",
       "  <thead>\n",
       "    <tr style=\"text-align: right;\">\n",
       "      <th></th>\n",
       "      <th>OPEN</th>\n",
       "      <th>HIGH</th>\n",
       "      <th>LOW</th>\n",
       "      <th>PREV. CLOSE</th>\n",
       "      <th>ltp</th>\n",
       "      <th>vwap</th>\n",
       "      <th>Sentiment Score</th>\n",
       "      <th>Sentiment_negative</th>\n",
       "      <th>Sentiment_neutral</th>\n",
       "      <th>Sentiment_positive</th>\n",
       "    </tr>\n",
       "  </thead>\n",
       "  <tbody>\n",
       "    <tr>\n",
       "      <th>0</th>\n",
       "      <td>1,605.00</td>\n",
       "      <td>1,636.15</td>\n",
       "      <td>1,605.00</td>\n",
       "      <td>1,592.75</td>\n",
       "      <td>1,619.25</td>\n",
       "      <td>1,626.09</td>\n",
       "      <td>0.794758</td>\n",
       "      <td>False</td>\n",
       "      <td>True</td>\n",
       "      <td>False</td>\n",
       "    </tr>\n",
       "  </tbody>\n",
       "</table>\n",
       "</div>"
      ],
      "text/plain": [
       "       OPEN      HIGH       LOW PREV. CLOSE       ltp      vwap  \\\n",
       "0  1,605.00  1,636.15  1,605.00    1,592.75  1,619.25  1,626.09   \n",
       "\n",
       "   Sentiment Score  Sentiment_negative  Sentiment_neutral  Sentiment_positive  \n",
       "0         0.794758               False               True               False  "
      ]
     },
     "execution_count": 62,
     "metadata": {},
     "output_type": "execute_result"
    }
   ],
   "source": [
    "# Create a DataFrame or NumPy array with the input features [colnames same as model training]\n",
    "features = pd.DataFrame([{\n",
    "    \"OPEN\": data['Open'],\n",
    "    \"HIGH\": data['High'],\n",
    "    \"LOW\": data['Low'],\n",
    "    \"PREV. CLOSE\": data['Prev. Close'],\n",
    "    \"ltp\": data['Last Traded Price (LTP)'],\n",
    "    \"vwap\": data['VWAP'],\n",
    "    \"Sentiment Score\": mean_sentiment_score,\n",
    "    \"Sentiment_negative\": sentiment_negative,\n",
    "    \"Sentiment_neutral\": sentiment_neutral,\n",
    "    \"Sentiment_positive\": sentiment_positive\n",
    "}])\n",
    "\n",
    "features.head()"
   ]
  },
  {
   "cell_type": "code",
   "execution_count": 64,
   "metadata": {},
   "outputs": [],
   "source": [
    "# Convert numerical columns to floating-point numbers\n",
    "columns_to_convert = [\"OPEN\", \"HIGH\", \"LOW\", \"PREV. CLOSE\", \"ltp\", \"vwap\"]\n",
    "\n",
    "for column in columns_to_convert:\n",
    "    features[column] = features[column].astype(str)  # Ensure values are strings\n",
    "    features[column] = features[column].str.replace(r\"[^\\d.]\", \"\", regex=True)  # Remove non-numeric characters\n",
    "    features[column] = pd.to_numeric(features[column], errors=\"coerce\")  # Convert to float, keeping NaN for non-convertible values"
   ]
  },
  {
   "cell_type": "code",
   "execution_count": 65,
   "metadata": {},
   "outputs": [
    {
     "data": {
      "text/plain": [
       "OPEN                  float64\n",
       "HIGH                  float64\n",
       "LOW                   float64\n",
       "PREV. CLOSE           float64\n",
       "ltp                   float64\n",
       "vwap                  float64\n",
       "Sentiment Score       float64\n",
       "Sentiment_negative       bool\n",
       "Sentiment_neutral        bool\n",
       "Sentiment_positive       bool\n",
       "dtype: object"
      ]
     },
     "execution_count": 65,
     "metadata": {},
     "output_type": "execute_result"
    }
   ],
   "source": [
    "features.dtypes"
   ]
  },
  {
   "cell_type": "code",
   "execution_count": 67,
   "metadata": {},
   "outputs": [
    {
     "name": "stdout",
     "output_type": "stream",
     "text": [
      "Predicted Closing Price: 1628.45\n"
     ]
    }
   ],
   "source": [
    "# Make the prediction\n",
    "predicted_price = stock_model.predict(features)\n",
    "print(f\"Predicted Closing Price: {predicted_price[0]:.2f}\")"
   ]
  },
  {
   "cell_type": "markdown",
   "metadata": {},
   "source": [
    "## Automating the Prediction"
   ]
  },
  {
   "cell_type": "code",
   "execution_count": null,
   "metadata": {},
   "outputs": [],
   "source": []
  }
 ],
 "metadata": {
  "kernelspec": {
   "display_name": "Python 3",
   "language": "python",
   "name": "python3"
  },
  "language_info": {
   "codemirror_mode": {
    "name": "ipython",
    "version": 3
   },
   "file_extension": ".py",
   "mimetype": "text/x-python",
   "name": "python",
   "nbconvert_exporter": "python",
   "pygments_lexer": "ipython3",
   "version": "3.10.11"
  }
 },
 "nbformat": 4,
 "nbformat_minor": 2
}
