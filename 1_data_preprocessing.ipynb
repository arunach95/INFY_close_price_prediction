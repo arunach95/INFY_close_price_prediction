{
 "cells": [
  {
   "cell_type": "markdown",
   "metadata": {},
   "source": [
    "## Scrape News data"
   ]
  },
  {
   "cell_type": "code",
   "execution_count": 5,
   "metadata": {},
   "outputs": [
    {
     "name": "stderr",
     "output_type": "stream",
     "text": [
      "c:\\Users\\abhil\\AppData\\Local\\Programs\\Python\\Python310\\lib\\site-packages\\tqdm\\auto.py:21: TqdmWarning: IProgress not found. Please update jupyter and ipywidgets. See https://ipywidgets.readthedocs.io/en/stable/user_install.html\n",
      "  from .autonotebook import tqdm as notebook_tqdm\n"
     ]
    }
   ],
   "source": [
    "# import statements\n",
    "from webdriver_manager.chrome import ChromeDriverManager\n",
    "from selenium import webdriver\n",
    "from selenium.webdriver.chrome.service import Service\n",
    "from selenium.webdriver.chrome.options import Options\n",
    "import time\n",
    "from selenium.webdriver.common.by import By\n",
    "import re\n",
    "from datetime import datetime, timedelta\n",
    "import pandas as pd\n",
    "import torch # for finbert model\n",
    "from transformers import BertTokenizer, BertForSequenceClassification\n",
    "from transformers import pipeline"
   ]
  },
  {
   "cell_type": "code",
   "execution_count": 14,
   "metadata": {},
   "outputs": [],
   "source": [
    "# Set Chrome options\n",
    "chrome_options = Options()\n",
    "# chrome_options.add_argument(\"--headless\")  # Run in headless mode (no UI)\n",
    "\n",
    "driver = webdriver.Chrome(service = Service(ChromeDriverManager().install()), options=chrome_options)"
   ]
  },
  {
   "cell_type": "code",
   "execution_count": 15,
   "metadata": {},
   "outputs": [],
   "source": [
    "driver.get(\"https://news.google.com/search?q=infosys&hl=en-IN&gl=IN&ceid=IN%3Aen\")\n",
    "time.sleep(3)  # Wait for the page to load"
   ]
  },
  {
   "cell_type": "code",
   "execution_count": 16,
   "metadata": {},
   "outputs": [
    {
     "name": "stdout",
     "output_type": "stream",
     "text": [
      "Infosys terminates more trainees from Mysuru campus; offers alternative career path\n",
      "Infosys to trainees as it announces more layoffs at Mysuru campus: Please be informed that you have not m\n",
      "Infosys layoffs: Bad news for Infosys employees as Narayana Murthy's company fires...., move set to affect...\n",
      "Cognizant has message for TCS, Infosys, Wipro, HCL Tech & other peers\n",
      "Infosys, Wipro, TCS on US hiring blacklist? Leaked recruiter email says…\n"
     ]
    }
   ],
   "source": [
    "# Extract article titles\n",
    "articles = driver.find_elements(By.CLASS_NAME, \"JtKRv\")  # Target anchor tags with class \"JtKRv\"\n",
    "\n",
    "# Extract and print the titles\n",
    "for article in articles[:5]:\n",
    "    title = article.text  # Extract the text inside the <a> tag\n",
    "    print(title)"
   ]
  },
  {
   "cell_type": "code",
   "execution_count": 17,
   "metadata": {},
   "outputs": [
    {
     "name": "stdout",
     "output_type": "stream",
     "text": [
      "Published: 2 days ago | Datetime: 2025-03-27T03:01:25Z\n",
      "Published: 2 days ago | Datetime: 2025-03-27T09:20:00Z\n",
      "Published: 2 days ago | Datetime: 2025-03-27T03:42:50Z\n",
      "Published: 2 days ago | Datetime: 2025-03-27T05:53:56Z\n",
      "Published: Yesterday | Datetime: 2025-03-28T06:46:32Z\n"
     ]
    }
   ],
   "source": [
    "# Extract dates\n",
    "date_elements = driver.find_elements(By.CLASS_NAME, \"hvbAAd\")  # Target <time> elements\n",
    "\n",
    "# Extract and print the dates\n",
    "for date_element in date_elements[:5]:\n",
    "    date_text = date_element.text  # Extract the visible text (e.g., \"2 days ago\")\n",
    "    date_time = date_element.get_attribute(\"datetime\")  # Extract the actual datetime attribute\n",
    "    print(f\"Published: {date_text} | Datetime: {date_time}\")"
   ]
  },
  {
   "cell_type": "code",
   "execution_count": 10,
   "metadata": {},
   "outputs": [],
   "source": [
    "driver.quit()"
   ]
  },
  {
   "cell_type": "code",
   "execution_count": 18,
   "metadata": {},
   "outputs": [],
   "source": [
    "# Get Current Date for conversions\n",
    "current_date = datetime.today()"
   ]
  },
  {
   "cell_type": "code",
   "execution_count": 19,
   "metadata": {},
   "outputs": [],
   "source": [
    "# Function to convert date formats\n",
    "def convert_date(date_element):\n",
    "    \"\"\"Convert various date formats to 'YYYY-MM-DD'.\"\"\"\n",
    "    try:\n",
    "        # Extract datetime attribute if available\n",
    "        if hasattr(date_element, \"get_attribute\"):\n",
    "            datetime_attr = date_element.get_attribute(\"datetime\")\n",
    "            if datetime_attr:\n",
    "                return datetime_attr[:10]  # Extract 'YYYY-MM-DD'\n",
    "\n",
    "            date_text = date_element.text.strip()\n",
    "        else:\n",
    "            date_text = date_element.strip()\n",
    "\n",
    "        # Handle empty dates\n",
    "        if not date_text:\n",
    "            return \"Unknown\"\n",
    "\n",
    "        # Handle 'X days ago'\n",
    "        days_match = re.match(r'(\\d+)\\s+days?\\s+ago', date_text)\n",
    "        if days_match:\n",
    "            return (datetime.today() - timedelta(days=int(days_match.group(1)))).strftime(\"%Y-%m-%d\")\n",
    "\n",
    "        # Handle 'X hours ago', 'X minutes ago', 'Just now'\n",
    "        if any(unit in date_text for unit in [\"hour\", \"minute\", \"just now\"]):\n",
    "            return datetime.today().strftime(\"%Y-%m-%d\")\n",
    "\n",
    "        # Handle 'DD-MMM' format (e.g., '10-Mar')\n",
    "        try:\n",
    "            return datetime.strptime(f\"{date_text}-2024\", \"%d-%b-%Y\").strftime(\"%Y-%m-%d\")\n",
    "        except ValueError:\n",
    "            return \"Unknown\"\n",
    "\n",
    "    except Exception as e:\n",
    "        print(f\"Error parsing date: {e}\")  # Debugging\n",
    "        return \"Unknown\""
   ]
  },
  {
   "cell_type": "code",
   "execution_count": 20,
   "metadata": {},
   "outputs": [],
   "source": [
    "# Store extracted data\n",
    "news_data = []\n",
    "\n",
    "# Ensure we don't exceed the number of available elements\n",
    "for i in range(min(len(articles), len(date_elements))):\n",
    "    title = articles[i].text.strip()  # Extract news title\n",
    "    raw_date = date_elements[i].text.strip()  # Extract human-readable date\n",
    "    formatted_date = convert_date(raw_date)  # Convert date to 'YYYY-MM-DD' format\n",
    "    news_data.append({\"Title\": title, \"Published Date\": formatted_date})"
   ]
  },
  {
   "cell_type": "code",
   "execution_count": 21,
   "metadata": {},
   "outputs": [
    {
     "data": {
      "text/plain": [
       "[{'Title': 'Infosys terminates more trainees from Mysuru campus; offers alternative career path',\n",
       "  'Published Date': '2025-03-27'},\n",
       " {'Title': 'Infosys to trainees as it announces more layoffs at Mysuru campus: Please be informed that you have not m',\n",
       "  'Published Date': '2025-03-27'}]"
      ]
     },
     "execution_count": 21,
     "metadata": {},
     "output_type": "execute_result"
    }
   ],
   "source": [
    "news_data[:2]"
   ]
  },
  {
   "cell_type": "code",
   "execution_count": 22,
   "metadata": {},
   "outputs": [
    {
     "data": {
      "text/html": [
       "<div>\n",
       "<style scoped>\n",
       "    .dataframe tbody tr th:only-of-type {\n",
       "        vertical-align: middle;\n",
       "    }\n",
       "\n",
       "    .dataframe tbody tr th {\n",
       "        vertical-align: top;\n",
       "    }\n",
       "\n",
       "    .dataframe thead th {\n",
       "        text-align: right;\n",
       "    }\n",
       "</style>\n",
       "<table border=\"1\" class=\"dataframe\">\n",
       "  <thead>\n",
       "    <tr style=\"text-align: right;\">\n",
       "      <th></th>\n",
       "      <th>Title</th>\n",
       "      <th>Published Date</th>\n",
       "    </tr>\n",
       "  </thead>\n",
       "  <tbody>\n",
       "    <tr>\n",
       "      <th>0</th>\n",
       "      <td>Infosys terminates more trainees from Mysuru c...</td>\n",
       "      <td>2025-03-27</td>\n",
       "    </tr>\n",
       "    <tr>\n",
       "      <th>1</th>\n",
       "      <td>Infosys to trainees as it announces more layof...</td>\n",
       "      <td>2025-03-27</td>\n",
       "    </tr>\n",
       "    <tr>\n",
       "      <th>2</th>\n",
       "      <td>Infosys layoffs: Bad news for Infosys employee...</td>\n",
       "      <td>2025-03-27</td>\n",
       "    </tr>\n",
       "    <tr>\n",
       "      <th>3</th>\n",
       "      <td>Cognizant has message for TCS, Infosys, Wipro,...</td>\n",
       "      <td>2025-03-27</td>\n",
       "    </tr>\n",
       "    <tr>\n",
       "      <th>4</th>\n",
       "      <td>Infosys, Wipro, TCS on US hiring blacklist? Le...</td>\n",
       "      <td>Unknown</td>\n",
       "    </tr>\n",
       "  </tbody>\n",
       "</table>\n",
       "</div>"
      ],
      "text/plain": [
       "                                               Title Published Date\n",
       "0  Infosys terminates more trainees from Mysuru c...     2025-03-27\n",
       "1  Infosys to trainees as it announces more layof...     2025-03-27\n",
       "2  Infosys layoffs: Bad news for Infosys employee...     2025-03-27\n",
       "3  Cognizant has message for TCS, Infosys, Wipro,...     2025-03-27\n",
       "4  Infosys, Wipro, TCS on US hiring blacklist? Le...        Unknown"
      ]
     },
     "execution_count": 22,
     "metadata": {},
     "output_type": "execute_result"
    }
   ],
   "source": [
    "# Create DataFrame\n",
    "df = pd.DataFrame(news_data)\n",
    "df.head()"
   ]
  },
  {
   "cell_type": "code",
   "execution_count": 23,
   "metadata": {},
   "outputs": [
    {
     "data": {
      "text/plain": [
       "Published Date\n",
       "2025-03-27    35\n",
       "Unknown       20\n",
       "2025-03-29     8\n",
       "2025-03-26     8\n",
       "2025-03-25     8\n",
       "2025-03-07     4\n",
       "2025-03-19     4\n",
       "2025-03-06     3\n",
       "2025-03-21     3\n",
       "2025-03-13     2\n",
       "2025-03-20     2\n",
       "2025-03-17     1\n",
       "2025-03-15     1\n",
       "2025-03-22     1\n",
       "2025-03-14     1\n",
       "2025-03-24     1\n",
       "Name: count, dtype: int64"
      ]
     },
     "execution_count": 23,
     "metadata": {},
     "output_type": "execute_result"
    }
   ],
   "source": [
    "df['Published Date'].value_counts().sort_values(ascending=False)"
   ]
  },
  {
   "cell_type": "markdown",
   "metadata": {},
   "source": [
    "There are 15 unknown date values. so removing them, we get"
   ]
  },
  {
   "cell_type": "code",
   "execution_count": 24,
   "metadata": {},
   "outputs": [
    {
     "data": {
      "text/plain": [
       "(82, 2)"
      ]
     },
     "execution_count": 24,
     "metadata": {},
     "output_type": "execute_result"
    }
   ],
   "source": [
    "df = df[df[\"Published Date\"] != \"Unknown\"] # remove 'unknown'\n",
    "df.to_csv('Data/news_dataset.csv', index=False)\n",
    "df.shape"
   ]
  },
  {
   "cell_type": "markdown",
   "metadata": {},
   "source": [
    "## Sentiment Analysis"
   ]
  },
  {
   "cell_type": "markdown",
   "metadata": {},
   "source": [
    "Now that we have scraped the news on INFOSYS and stored in a dataframe along with dates published, we move to sentiment analysis using finvert model"
   ]
  },
  {
   "cell_type": "code",
   "execution_count": 25,
   "metadata": {},
   "outputs": [
    {
     "data": {
      "text/html": [
       "<div>\n",
       "<style scoped>\n",
       "    .dataframe tbody tr th:only-of-type {\n",
       "        vertical-align: middle;\n",
       "    }\n",
       "\n",
       "    .dataframe tbody tr th {\n",
       "        vertical-align: top;\n",
       "    }\n",
       "\n",
       "    .dataframe thead th {\n",
       "        text-align: right;\n",
       "    }\n",
       "</style>\n",
       "<table border=\"1\" class=\"dataframe\">\n",
       "  <thead>\n",
       "    <tr style=\"text-align: right;\">\n",
       "      <th></th>\n",
       "      <th>Title</th>\n",
       "      <th>Published Date</th>\n",
       "    </tr>\n",
       "  </thead>\n",
       "  <tbody>\n",
       "    <tr>\n",
       "      <th>0</th>\n",
       "      <td>Infosys terminates more trainees from Mysuru c...</td>\n",
       "      <td>2025-03-27</td>\n",
       "    </tr>\n",
       "    <tr>\n",
       "      <th>1</th>\n",
       "      <td>Infosys to trainees as it announces more layof...</td>\n",
       "      <td>2025-03-27</td>\n",
       "    </tr>\n",
       "    <tr>\n",
       "      <th>2</th>\n",
       "      <td>Infosys layoffs: Bad news for Infosys employee...</td>\n",
       "      <td>2025-03-27</td>\n",
       "    </tr>\n",
       "    <tr>\n",
       "      <th>3</th>\n",
       "      <td>Cognizant has message for TCS, Infosys, Wipro,...</td>\n",
       "      <td>2025-03-27</td>\n",
       "    </tr>\n",
       "    <tr>\n",
       "      <th>4</th>\n",
       "      <td>TCS, Infosys, HDFC Bank, HCL Tech among 5 key ...</td>\n",
       "      <td>2025-03-29</td>\n",
       "    </tr>\n",
       "  </tbody>\n",
       "</table>\n",
       "</div>"
      ],
      "text/plain": [
       "                                               Title Published Date\n",
       "0  Infosys terminates more trainees from Mysuru c...     2025-03-27\n",
       "1  Infosys to trainees as it announces more layof...     2025-03-27\n",
       "2  Infosys layoffs: Bad news for Infosys employee...     2025-03-27\n",
       "3  Cognizant has message for TCS, Infosys, Wipro,...     2025-03-27\n",
       "4  TCS, Infosys, HDFC Bank, HCL Tech among 5 key ...     2025-03-29"
      ]
     },
     "execution_count": 25,
     "metadata": {},
     "output_type": "execute_result"
    }
   ],
   "source": [
    "# load the news_data\n",
    "news_data = pd.read_csv('Data/news_dataset.csv')\n",
    "news_data.head()"
   ]
  },
  {
   "cell_type": "code",
   "execution_count": 26,
   "metadata": {},
   "outputs": [
    {
     "name": "stderr",
     "output_type": "stream",
     "text": [
      "c:\\Users\\abhil\\AppData\\Local\\Programs\\Python\\Python310\\lib\\site-packages\\huggingface_hub\\file_download.py:142: UserWarning: `huggingface_hub` cache-system uses symlinks by default to efficiently store duplicated files but your machine does not support them in C:\\Users\\abhil\\.cache\\huggingface\\hub\\models--ProsusAI--finbert. Caching files will still work but in a degraded version that might require more space on your disk. This warning can be disabled by setting the `HF_HUB_DISABLE_SYMLINKS_WARNING` environment variable. For more details, see https://huggingface.co/docs/huggingface_hub/how-to-cache#limitations.\n",
      "To support symlinks on Windows, you either need to activate Developer Mode or to run Python as an administrator. In order to activate developer mode, see this article: https://docs.microsoft.com/en-us/windows/apps/get-started/enable-your-device-for-development\n",
      "  warnings.warn(message)\n",
      "Device set to use cpu\n"
     ]
    }
   ],
   "source": [
    "# Load FinBERT model\n",
    "MODEL_NAME = \"ProsusAI/finbert\"\n",
    "tokenizer = BertTokenizer.from_pretrained(MODEL_NAME)\n",
    "model = BertForSequenceClassification.from_pretrained(MODEL_NAME)\n",
    "\n",
    "# Load the pre-trained FinBERT model\n",
    "sentiment_analyzer = pipeline(\"sentiment-analysis\", model=model, tokenizer=tokenizer)"
   ]
  },
  {
   "cell_type": "code",
   "execution_count": 16,
   "metadata": {},
   "outputs": [
    {
     "name": "stdout",
     "output_type": "stream",
     "text": [
      "[{'label': 'negative', 'score': 0.7016247510910034}]\n"
     ]
    }
   ],
   "source": [
    "# Perform sentiment analysis\n",
    "headlines = news_data[\"Title\"].dropna().tolist()  # Remove NaN values before analysis\n",
    "results = sentiment_analyzer(headlines)\n",
    "print(results[:1]) # for DEMO"
   ]
  },
  {
   "cell_type": "code",
   "execution_count": 17,
   "metadata": {},
   "outputs": [
    {
     "data": {
      "text/html": [
       "<div>\n",
       "<style scoped>\n",
       "    .dataframe tbody tr th:only-of-type {\n",
       "        vertical-align: middle;\n",
       "    }\n",
       "\n",
       "    .dataframe tbody tr th {\n",
       "        vertical-align: top;\n",
       "    }\n",
       "\n",
       "    .dataframe thead th {\n",
       "        text-align: right;\n",
       "    }\n",
       "</style>\n",
       "<table border=\"1\" class=\"dataframe\">\n",
       "  <thead>\n",
       "    <tr style=\"text-align: right;\">\n",
       "      <th></th>\n",
       "      <th>Title</th>\n",
       "      <th>Published Date</th>\n",
       "      <th>Sentiment</th>\n",
       "      <th>Sentiment Score</th>\n",
       "    </tr>\n",
       "  </thead>\n",
       "  <tbody>\n",
       "    <tr>\n",
       "      <th>0</th>\n",
       "      <td>Infosys, Wipro, TCS among tech giants blacklis...</td>\n",
       "      <td>2025-03-25</td>\n",
       "      <td>negative</td>\n",
       "      <td>0.701625</td>\n",
       "    </tr>\n",
       "    <tr>\n",
       "      <th>1</th>\n",
       "      <td>Dividend stocks in India: Infosys, HDFC Bank t...</td>\n",
       "      <td>2025-03-22</td>\n",
       "      <td>positive</td>\n",
       "      <td>0.559317</td>\n",
       "    </tr>\n",
       "    <tr>\n",
       "      <th>2</th>\n",
       "      <td>Jefferies says 'buy' Infosys on attractive ris...</td>\n",
       "      <td>2025-03-25</td>\n",
       "      <td>neutral</td>\n",
       "      <td>0.517249</td>\n",
       "    </tr>\n",
       "    <tr>\n",
       "      <th>3</th>\n",
       "      <td>Infosys, Wipro, TCS may struggle in FY26 as US...</td>\n",
       "      <td>2025-03-22</td>\n",
       "      <td>negative</td>\n",
       "      <td>0.937908</td>\n",
       "    </tr>\n",
       "    <tr>\n",
       "      <th>4</th>\n",
       "      <td>Infosys shares rise nearly 3% despite Jefferie...</td>\n",
       "      <td>2025-03-25</td>\n",
       "      <td>positive</td>\n",
       "      <td>0.918781</td>\n",
       "    </tr>\n",
       "  </tbody>\n",
       "</table>\n",
       "</div>"
      ],
      "text/plain": [
       "                                               Title Published Date Sentiment  \\\n",
       "0  Infosys, Wipro, TCS among tech giants blacklis...     2025-03-25  negative   \n",
       "1  Dividend stocks in India: Infosys, HDFC Bank t...     2025-03-22  positive   \n",
       "2  Jefferies says 'buy' Infosys on attractive ris...     2025-03-25   neutral   \n",
       "3  Infosys, Wipro, TCS may struggle in FY26 as US...     2025-03-22  negative   \n",
       "4  Infosys shares rise nearly 3% despite Jefferie...     2025-03-25  positive   \n",
       "\n",
       "   Sentiment Score  \n",
       "0         0.701625  \n",
       "1         0.559317  \n",
       "2         0.517249  \n",
       "3         0.937908  \n",
       "4         0.918781  "
      ]
     },
     "execution_count": 17,
     "metadata": {},
     "output_type": "execute_result"
    }
   ],
   "source": [
    "# Extract sentiment labels and scores\n",
    "labels = [result[\"label\"] for result in results]\n",
    "scores = [result[\"score\"] for result in results]\n",
    "\n",
    "# Add results to the DataFrame\n",
    "news_data.loc[news_data[\"Title\"].notna(), \"Sentiment\"] = labels\n",
    "news_data.loc[news_data[\"Title\"].notna(), \"Sentiment Score\"] = scores\n",
    "\n",
    "news_data.head()"
   ]
  },
  {
   "cell_type": "code",
   "execution_count": 18,
   "metadata": {},
   "outputs": [
    {
     "data": {
      "text/html": [
       "<div>\n",
       "<style scoped>\n",
       "    .dataframe tbody tr th:only-of-type {\n",
       "        vertical-align: middle;\n",
       "    }\n",
       "\n",
       "    .dataframe tbody tr th {\n",
       "        vertical-align: top;\n",
       "    }\n",
       "\n",
       "    .dataframe thead th {\n",
       "        text-align: right;\n",
       "    }\n",
       "</style>\n",
       "<table border=\"1\" class=\"dataframe\">\n",
       "  <thead>\n",
       "    <tr style=\"text-align: right;\">\n",
       "      <th></th>\n",
       "      <th>Title</th>\n",
       "      <th>Published Date</th>\n",
       "      <th>Sentiment Score</th>\n",
       "      <th>Sentiment_negative</th>\n",
       "      <th>Sentiment_neutral</th>\n",
       "      <th>Sentiment_positive</th>\n",
       "    </tr>\n",
       "  </thead>\n",
       "  <tbody>\n",
       "    <tr>\n",
       "      <th>0</th>\n",
       "      <td>Infosys, Wipro, TCS among tech giants blacklis...</td>\n",
       "      <td>2025-03-25</td>\n",
       "      <td>0.701625</td>\n",
       "      <td>True</td>\n",
       "      <td>False</td>\n",
       "      <td>False</td>\n",
       "    </tr>\n",
       "    <tr>\n",
       "      <th>1</th>\n",
       "      <td>Dividend stocks in India: Infosys, HDFC Bank t...</td>\n",
       "      <td>2025-03-22</td>\n",
       "      <td>0.559317</td>\n",
       "      <td>False</td>\n",
       "      <td>False</td>\n",
       "      <td>True</td>\n",
       "    </tr>\n",
       "    <tr>\n",
       "      <th>2</th>\n",
       "      <td>Jefferies says 'buy' Infosys on attractive ris...</td>\n",
       "      <td>2025-03-25</td>\n",
       "      <td>0.517249</td>\n",
       "      <td>False</td>\n",
       "      <td>True</td>\n",
       "      <td>False</td>\n",
       "    </tr>\n",
       "    <tr>\n",
       "      <th>3</th>\n",
       "      <td>Infosys, Wipro, TCS may struggle in FY26 as US...</td>\n",
       "      <td>2025-03-22</td>\n",
       "      <td>0.937908</td>\n",
       "      <td>True</td>\n",
       "      <td>False</td>\n",
       "      <td>False</td>\n",
       "    </tr>\n",
       "    <tr>\n",
       "      <th>4</th>\n",
       "      <td>Infosys shares rise nearly 3% despite Jefferie...</td>\n",
       "      <td>2025-03-25</td>\n",
       "      <td>0.918781</td>\n",
       "      <td>False</td>\n",
       "      <td>False</td>\n",
       "      <td>True</td>\n",
       "    </tr>\n",
       "  </tbody>\n",
       "</table>\n",
       "</div>"
      ],
      "text/plain": [
       "                                               Title Published Date  \\\n",
       "0  Infosys, Wipro, TCS among tech giants blacklis...     2025-03-25   \n",
       "1  Dividend stocks in India: Infosys, HDFC Bank t...     2025-03-22   \n",
       "2  Jefferies says 'buy' Infosys on attractive ris...     2025-03-25   \n",
       "3  Infosys, Wipro, TCS may struggle in FY26 as US...     2025-03-22   \n",
       "4  Infosys shares rise nearly 3% despite Jefferie...     2025-03-25   \n",
       "\n",
       "   Sentiment Score  Sentiment_negative  Sentiment_neutral  Sentiment_positive  \n",
       "0         0.701625                True              False               False  \n",
       "1         0.559317               False              False                True  \n",
       "2         0.517249               False               True               False  \n",
       "3         0.937908                True              False               False  \n",
       "4         0.918781               False              False                True  "
      ]
     },
     "execution_count": 18,
     "metadata": {},
     "output_type": "execute_result"
    }
   ],
   "source": [
    "# Perform One-Hot Encoding on 'Sentiment'\n",
    "news_data = pd.get_dummies(news_data, columns=[\"Sentiment\"], prefix=\"Sentiment\")\n",
    "news_data.to_csv(\"Data/news_data_with_sentiment.csv\", index=False)\n",
    "news_data.head()"
   ]
  },
  {
   "cell_type": "markdown",
   "metadata": {},
   "source": [
    "## Load Historical Data And Merge With News Data to Prepare the Final Data"
   ]
  },
  {
   "cell_type": "code",
   "execution_count": null,
   "metadata": {},
   "outputs": [
    {
     "data": {
      "text/html": [
       "<div>\n",
       "<style scoped>\n",
       "    .dataframe tbody tr th:only-of-type {\n",
       "        vertical-align: middle;\n",
       "    }\n",
       "\n",
       "    .dataframe tbody tr th {\n",
       "        vertical-align: top;\n",
       "    }\n",
       "\n",
       "    .dataframe thead th {\n",
       "        text-align: right;\n",
       "    }\n",
       "</style>\n",
       "<table border=\"1\" class=\"dataframe\">\n",
       "  <thead>\n",
       "    <tr style=\"text-align: right;\">\n",
       "      <th></th>\n",
       "      <th>Date</th>\n",
       "      <th>series</th>\n",
       "      <th>OPEN</th>\n",
       "      <th>HIGH</th>\n",
       "      <th>LOW</th>\n",
       "      <th>PREV. CLOSE</th>\n",
       "      <th>ltp</th>\n",
       "      <th>close</th>\n",
       "      <th>vwap</th>\n",
       "      <th>52W H</th>\n",
       "      <th>52W L</th>\n",
       "      <th>VOLUME</th>\n",
       "      <th>VALUE</th>\n",
       "      <th>No of trades</th>\n",
       "    </tr>\n",
       "  </thead>\n",
       "  <tbody>\n",
       "    <tr>\n",
       "      <th>0</th>\n",
       "      <td>25-Mar-2025</td>\n",
       "      <td>EQ</td>\n",
       "      <td>1,605.00</td>\n",
       "      <td>1,636.15</td>\n",
       "      <td>1,605.00</td>\n",
       "      <td>1,592.75</td>\n",
       "      <td>1,619.25</td>\n",
       "      <td>1,628.45</td>\n",
       "      <td>1,626.09</td>\n",
       "      <td>2,006.45</td>\n",
       "      <td>1,358.35</td>\n",
       "      <td>98,90,140</td>\n",
       "      <td>16,08,22,64,118.35</td>\n",
       "      <td>2,66,112</td>\n",
       "    </tr>\n",
       "    <tr>\n",
       "      <th>1</th>\n",
       "      <td>24-Mar-2025</td>\n",
       "      <td>EQ</td>\n",
       "      <td>1,597.95</td>\n",
       "      <td>1,607.10</td>\n",
       "      <td>1,572.70</td>\n",
       "      <td>1,592.55</td>\n",
       "      <td>1,593.95</td>\n",
       "      <td>1,592.75</td>\n",
       "      <td>1,588.76</td>\n",
       "      <td>2,006.45</td>\n",
       "      <td>1,358.35</td>\n",
       "      <td>88,57,726</td>\n",
       "      <td>14,07,28,23,625.15</td>\n",
       "      <td>2,50,512</td>\n",
       "    </tr>\n",
       "    <tr>\n",
       "      <th>2</th>\n",
       "      <td>21-Mar-2025</td>\n",
       "      <td>EQ</td>\n",
       "      <td>1,577.95</td>\n",
       "      <td>1,603.90</td>\n",
       "      <td>1,563.65</td>\n",
       "      <td>1,615.55</td>\n",
       "      <td>1,595.40</td>\n",
       "      <td>1,592.55</td>\n",
       "      <td>1,591.34</td>\n",
       "      <td>2,006.45</td>\n",
       "      <td>1,358.35</td>\n",
       "      <td>1,00,74,677</td>\n",
       "      <td>16,03,22,62,527.35</td>\n",
       "      <td>2,41,185</td>\n",
       "    </tr>\n",
       "    <tr>\n",
       "      <th>3</th>\n",
       "      <td>20-Mar-2025</td>\n",
       "      <td>EQ</td>\n",
       "      <td>1,592.00</td>\n",
       "      <td>1,631.90</td>\n",
       "      <td>1,592.00</td>\n",
       "      <td>1,586.55</td>\n",
       "      <td>1,609.05</td>\n",
       "      <td>1,615.55</td>\n",
       "      <td>1,616.31</td>\n",
       "      <td>2,006.45</td>\n",
       "      <td>1,358.35</td>\n",
       "      <td>71,86,750</td>\n",
       "      <td>11,61,60,04,800.30</td>\n",
       "      <td>2,29,276</td>\n",
       "    </tr>\n",
       "    <tr>\n",
       "      <th>4</th>\n",
       "      <td>19-Mar-2025</td>\n",
       "      <td>EQ</td>\n",
       "      <td>1,603.00</td>\n",
       "      <td>1,603.00</td>\n",
       "      <td>1,572.80</td>\n",
       "      <td>1,609.35</td>\n",
       "      <td>1,589.10</td>\n",
       "      <td>1,586.55</td>\n",
       "      <td>1,583.14</td>\n",
       "      <td>2,006.45</td>\n",
       "      <td>1,358.35</td>\n",
       "      <td>73,87,068</td>\n",
       "      <td>11,69,47,51,809.10</td>\n",
       "      <td>2,50,311</td>\n",
       "    </tr>\n",
       "  </tbody>\n",
       "</table>\n",
       "</div>"
      ],
      "text/plain": [
       "         Date  series      OPEN      HIGH       LOW  PREV. CLOSE       ltp   \\\n",
       "0  25-Mar-2025      EQ  1,605.00  1,636.15  1,605.00     1,592.75  1,619.25   \n",
       "1  24-Mar-2025      EQ  1,597.95  1,607.10  1,572.70     1,592.55  1,593.95   \n",
       "2  21-Mar-2025      EQ  1,577.95  1,603.90  1,563.65     1,615.55  1,595.40   \n",
       "3  20-Mar-2025      EQ  1,592.00  1,631.90  1,592.00     1,586.55  1,609.05   \n",
       "4  19-Mar-2025      EQ  1,603.00  1,603.00  1,572.80     1,609.35  1,589.10   \n",
       "\n",
       "     close      vwap     52W H     52W L       VOLUME               VALUE   \\\n",
       "0  1,628.45  1,626.09  2,006.45  1,358.35    98,90,140  16,08,22,64,118.35   \n",
       "1  1,592.75  1,588.76  2,006.45  1,358.35    88,57,726  14,07,28,23,625.15   \n",
       "2  1,592.55  1,591.34  2,006.45  1,358.35  1,00,74,677  16,03,22,62,527.35   \n",
       "3  1,615.55  1,616.31  2,006.45  1,358.35    71,86,750  11,61,60,04,800.30   \n",
       "4  1,586.55  1,583.14  2,006.45  1,358.35    73,87,068  11,69,47,51,809.10   \n",
       "\n",
       "  No of trades   \n",
       "0      2,66,112  \n",
       "1      2,50,512  \n",
       "2      2,41,185  \n",
       "3      2,29,276  \n",
       "4      2,50,311  "
      ]
     },
     "execution_count": 26,
     "metadata": {},
     "output_type": "execute_result"
    }
   ],
   "source": [
    "# Load the dataset obtained from NSE website\n",
    "nse_stock_data = pd.read_csv('Data/Quote-Equity-INFY-EQ-25-03-2024-to-25-03-2025.csv')\n",
    "nse_stock_data.head()"
   ]
  },
  {
   "cell_type": "code",
   "execution_count": 24,
   "metadata": {},
   "outputs": [
    {
     "data": {
      "text/html": [
       "<div>\n",
       "<style scoped>\n",
       "    .dataframe tbody tr th:only-of-type {\n",
       "        vertical-align: middle;\n",
       "    }\n",
       "\n",
       "    .dataframe tbody tr th {\n",
       "        vertical-align: top;\n",
       "    }\n",
       "\n",
       "    .dataframe thead th {\n",
       "        text-align: right;\n",
       "    }\n",
       "</style>\n",
       "<table border=\"1\" class=\"dataframe\">\n",
       "  <thead>\n",
       "    <tr style=\"text-align: right;\">\n",
       "      <th></th>\n",
       "      <th>Title</th>\n",
       "      <th>Published Date</th>\n",
       "      <th>Sentiment Score</th>\n",
       "      <th>Sentiment_negative</th>\n",
       "      <th>Sentiment_neutral</th>\n",
       "      <th>Sentiment_positive</th>\n",
       "    </tr>\n",
       "  </thead>\n",
       "  <tbody>\n",
       "    <tr>\n",
       "      <th>0</th>\n",
       "      <td>Infosys, Wipro, TCS among tech giants blacklis...</td>\n",
       "      <td>2025-03-25</td>\n",
       "      <td>0.701625</td>\n",
       "      <td>True</td>\n",
       "      <td>False</td>\n",
       "      <td>False</td>\n",
       "    </tr>\n",
       "    <tr>\n",
       "      <th>1</th>\n",
       "      <td>Dividend stocks in India: Infosys, HDFC Bank t...</td>\n",
       "      <td>2025-03-22</td>\n",
       "      <td>0.559317</td>\n",
       "      <td>False</td>\n",
       "      <td>False</td>\n",
       "      <td>True</td>\n",
       "    </tr>\n",
       "    <tr>\n",
       "      <th>2</th>\n",
       "      <td>Jefferies says 'buy' Infosys on attractive ris...</td>\n",
       "      <td>2025-03-25</td>\n",
       "      <td>0.517249</td>\n",
       "      <td>False</td>\n",
       "      <td>True</td>\n",
       "      <td>False</td>\n",
       "    </tr>\n",
       "    <tr>\n",
       "      <th>3</th>\n",
       "      <td>Infosys, Wipro, TCS may struggle in FY26 as US...</td>\n",
       "      <td>2025-03-22</td>\n",
       "      <td>0.937908</td>\n",
       "      <td>True</td>\n",
       "      <td>False</td>\n",
       "      <td>False</td>\n",
       "    </tr>\n",
       "    <tr>\n",
       "      <th>4</th>\n",
       "      <td>Infosys shares rise nearly 3% despite Jefferie...</td>\n",
       "      <td>2025-03-25</td>\n",
       "      <td>0.918781</td>\n",
       "      <td>False</td>\n",
       "      <td>False</td>\n",
       "      <td>True</td>\n",
       "    </tr>\n",
       "  </tbody>\n",
       "</table>\n",
       "</div>"
      ],
      "text/plain": [
       "                                               Title Published Date  \\\n",
       "0  Infosys, Wipro, TCS among tech giants blacklis...     2025-03-25   \n",
       "1  Dividend stocks in India: Infosys, HDFC Bank t...     2025-03-22   \n",
       "2  Jefferies says 'buy' Infosys on attractive ris...     2025-03-25   \n",
       "3  Infosys, Wipro, TCS may struggle in FY26 as US...     2025-03-22   \n",
       "4  Infosys shares rise nearly 3% despite Jefferie...     2025-03-25   \n",
       "\n",
       "   Sentiment Score  Sentiment_negative  Sentiment_neutral  Sentiment_positive  \n",
       "0         0.701625                True              False               False  \n",
       "1         0.559317               False              False                True  \n",
       "2         0.517249               False               True               False  \n",
       "3         0.937908                True              False               False  \n",
       "4         0.918781               False              False                True  "
      ]
     },
     "execution_count": 24,
     "metadata": {},
     "output_type": "execute_result"
    }
   ],
   "source": [
    "# Load the dataset news data with sentiment\n",
    "news_data = pd.read_csv(\"Data/news_data_with_sentiment.csv\")\n",
    "news_data.head()"
   ]
  },
  {
   "cell_type": "code",
   "execution_count": null,
   "metadata": {},
   "outputs": [
    {
     "data": {
      "text/plain": [
       "Index(['Date ', 'series ', 'OPEN ', 'HIGH ', 'LOW ', 'PREV. CLOSE ', 'ltp ',\n",
       "       'close ', 'vwap ', '52W H ', '52W L ', 'VOLUME ', 'VALUE ',\n",
       "       'No of trades '],\n",
       "      dtype='object')"
      ]
     },
     "execution_count": 32,
     "metadata": {},
     "output_type": "execute_result"
    }
   ],
   "source": [
    "nse_stock_data.columns # inspect column names"
   ]
  },
  {
   "cell_type": "code",
   "execution_count": 33,
   "metadata": {},
   "outputs": [],
   "source": [
    "# remove the trailing whitespaces\n",
    "nse_stock_data.columns = nse_stock_data.columns.str.strip()"
   ]
  },
  {
   "cell_type": "code",
   "execution_count": 35,
   "metadata": {},
   "outputs": [
    {
     "data": {
      "text/plain": [
       "Index(['Date', 'series', 'OPEN', 'HIGH', 'LOW', 'PREV. CLOSE', 'ltp', 'close',\n",
       "       'vwap', '52W H', '52W L', 'VOLUME', 'VALUE', 'No of trades'],\n",
       "      dtype='object')"
      ]
     },
     "execution_count": 35,
     "metadata": {},
     "output_type": "execute_result"
    }
   ],
   "source": [
    "nse_stock_data.columns # inspect column names"
   ]
  },
  {
   "cell_type": "code",
   "execution_count": 37,
   "metadata": {},
   "outputs": [],
   "source": [
    "# convert date columns from both datasets into same datetime format\n",
    "news_data[\"Published Date\"] = pd.to_datetime(news_data[\"Published Date\"], format=\"%Y-%m-%d\")\n",
    "nse_stock_data[\"Date\"] = pd.to_datetime(nse_stock_data[\"Date\"], format=\"%d-%b-%Y\")"
   ]
  },
  {
   "cell_type": "code",
   "execution_count": 39,
   "metadata": {},
   "outputs": [
    {
     "name": "stdout",
     "output_type": "stream",
     "text": [
      "news_data 'Published Date' dtype: datetime64[ns]\n",
      "nse_stock_data 'Date' dtype: datetime64[ns]\n"
     ]
    }
   ],
   "source": [
    "# Print the dtype of date columns\n",
    "print(\"news_data 'Published Date' dtype:\", news_data[\"Published Date\"].dtype)\n",
    "print(\"nse_stock_data 'Date' dtype:\", nse_stock_data[\"Date\"].dtype)"
   ]
  },
  {
   "cell_type": "code",
   "execution_count": 42,
   "metadata": {},
   "outputs": [
    {
     "data": {
      "text/html": [
       "<div>\n",
       "<style scoped>\n",
       "    .dataframe tbody tr th:only-of-type {\n",
       "        vertical-align: middle;\n",
       "    }\n",
       "\n",
       "    .dataframe tbody tr th {\n",
       "        vertical-align: top;\n",
       "    }\n",
       "\n",
       "    .dataframe thead th {\n",
       "        text-align: right;\n",
       "    }\n",
       "</style>\n",
       "<table border=\"1\" class=\"dataframe\">\n",
       "  <thead>\n",
       "    <tr style=\"text-align: right;\">\n",
       "      <th></th>\n",
       "      <th>Date</th>\n",
       "      <th>series</th>\n",
       "      <th>OPEN</th>\n",
       "      <th>HIGH</th>\n",
       "      <th>LOW</th>\n",
       "      <th>PREV. CLOSE</th>\n",
       "      <th>ltp</th>\n",
       "      <th>close</th>\n",
       "      <th>vwap</th>\n",
       "      <th>52W H</th>\n",
       "      <th>52W L</th>\n",
       "      <th>VOLUME</th>\n",
       "      <th>VALUE</th>\n",
       "      <th>No of trades</th>\n",
       "      <th>Title</th>\n",
       "      <th>Published Date</th>\n",
       "      <th>Sentiment Score</th>\n",
       "      <th>Sentiment_negative</th>\n",
       "      <th>Sentiment_neutral</th>\n",
       "      <th>Sentiment_positive</th>\n",
       "    </tr>\n",
       "  </thead>\n",
       "  <tbody>\n",
       "    <tr>\n",
       "      <th>0</th>\n",
       "      <td>2025-03-25</td>\n",
       "      <td>EQ</td>\n",
       "      <td>1,605.00</td>\n",
       "      <td>1,636.15</td>\n",
       "      <td>1,605.00</td>\n",
       "      <td>1,592.75</td>\n",
       "      <td>1,619.25</td>\n",
       "      <td>1,628.45</td>\n",
       "      <td>1,626.09</td>\n",
       "      <td>2,006.45</td>\n",
       "      <td>1,358.35</td>\n",
       "      <td>98,90,140</td>\n",
       "      <td>16,08,22,64,118.35</td>\n",
       "      <td>2,66,112</td>\n",
       "      <td>Infosys, Wipro, TCS among tech giants blacklis...</td>\n",
       "      <td>2025-03-25</td>\n",
       "      <td>0.701625</td>\n",
       "      <td>True</td>\n",
       "      <td>False</td>\n",
       "      <td>False</td>\n",
       "    </tr>\n",
       "    <tr>\n",
       "      <th>1</th>\n",
       "      <td>2025-03-25</td>\n",
       "      <td>EQ</td>\n",
       "      <td>1,605.00</td>\n",
       "      <td>1,636.15</td>\n",
       "      <td>1,605.00</td>\n",
       "      <td>1,592.75</td>\n",
       "      <td>1,619.25</td>\n",
       "      <td>1,628.45</td>\n",
       "      <td>1,626.09</td>\n",
       "      <td>2,006.45</td>\n",
       "      <td>1,358.35</td>\n",
       "      <td>98,90,140</td>\n",
       "      <td>16,08,22,64,118.35</td>\n",
       "      <td>2,66,112</td>\n",
       "      <td>Jefferies says 'buy' Infosys on attractive ris...</td>\n",
       "      <td>2025-03-25</td>\n",
       "      <td>0.517249</td>\n",
       "      <td>False</td>\n",
       "      <td>True</td>\n",
       "      <td>False</td>\n",
       "    </tr>\n",
       "    <tr>\n",
       "      <th>2</th>\n",
       "      <td>2025-03-25</td>\n",
       "      <td>EQ</td>\n",
       "      <td>1,605.00</td>\n",
       "      <td>1,636.15</td>\n",
       "      <td>1,605.00</td>\n",
       "      <td>1,592.75</td>\n",
       "      <td>1,619.25</td>\n",
       "      <td>1,628.45</td>\n",
       "      <td>1,626.09</td>\n",
       "      <td>2,006.45</td>\n",
       "      <td>1,358.35</td>\n",
       "      <td>98,90,140</td>\n",
       "      <td>16,08,22,64,118.35</td>\n",
       "      <td>2,66,112</td>\n",
       "      <td>Infosys shares rise nearly 3% despite Jefferie...</td>\n",
       "      <td>2025-03-25</td>\n",
       "      <td>0.918781</td>\n",
       "      <td>False</td>\n",
       "      <td>False</td>\n",
       "      <td>True</td>\n",
       "    </tr>\n",
       "    <tr>\n",
       "      <th>3</th>\n",
       "      <td>2025-03-25</td>\n",
       "      <td>EQ</td>\n",
       "      <td>1,605.00</td>\n",
       "      <td>1,636.15</td>\n",
       "      <td>1,605.00</td>\n",
       "      <td>1,592.75</td>\n",
       "      <td>1,619.25</td>\n",
       "      <td>1,628.45</td>\n",
       "      <td>1,626.09</td>\n",
       "      <td>2,006.45</td>\n",
       "      <td>1,358.35</td>\n",
       "      <td>98,90,140</td>\n",
       "      <td>16,08,22,64,118.35</td>\n",
       "      <td>2,66,112</td>\n",
       "      <td>TCS, HCLTech, Infosys, Wipro: Why IT stocks ar...</td>\n",
       "      <td>2025-03-25</td>\n",
       "      <td>0.713755</td>\n",
       "      <td>False</td>\n",
       "      <td>True</td>\n",
       "      <td>False</td>\n",
       "    </tr>\n",
       "    <tr>\n",
       "      <th>4</th>\n",
       "      <td>2025-03-25</td>\n",
       "      <td>EQ</td>\n",
       "      <td>1,605.00</td>\n",
       "      <td>1,636.15</td>\n",
       "      <td>1,605.00</td>\n",
       "      <td>1,592.75</td>\n",
       "      <td>1,619.25</td>\n",
       "      <td>1,628.45</td>\n",
       "      <td>1,626.09</td>\n",
       "      <td>2,006.45</td>\n",
       "      <td>1,358.35</td>\n",
       "      <td>98,90,140</td>\n",
       "      <td>16,08,22,64,118.35</td>\n",
       "      <td>2,66,112</td>\n",
       "      <td>Stock Recommendations Today: Suzlon Energy, LI...</td>\n",
       "      <td>2025-03-25</td>\n",
       "      <td>0.951364</td>\n",
       "      <td>False</td>\n",
       "      <td>True</td>\n",
       "      <td>False</td>\n",
       "    </tr>\n",
       "  </tbody>\n",
       "</table>\n",
       "</div>"
      ],
      "text/plain": [
       "        Date series      OPEN      HIGH       LOW PREV. CLOSE       ltp  \\\n",
       "0 2025-03-25     EQ  1,605.00  1,636.15  1,605.00    1,592.75  1,619.25   \n",
       "1 2025-03-25     EQ  1,605.00  1,636.15  1,605.00    1,592.75  1,619.25   \n",
       "2 2025-03-25     EQ  1,605.00  1,636.15  1,605.00    1,592.75  1,619.25   \n",
       "3 2025-03-25     EQ  1,605.00  1,636.15  1,605.00    1,592.75  1,619.25   \n",
       "4 2025-03-25     EQ  1,605.00  1,636.15  1,605.00    1,592.75  1,619.25   \n",
       "\n",
       "      close      vwap     52W H     52W L     VOLUME               VALUE  \\\n",
       "0  1,628.45  1,626.09  2,006.45  1,358.35  98,90,140  16,08,22,64,118.35   \n",
       "1  1,628.45  1,626.09  2,006.45  1,358.35  98,90,140  16,08,22,64,118.35   \n",
       "2  1,628.45  1,626.09  2,006.45  1,358.35  98,90,140  16,08,22,64,118.35   \n",
       "3  1,628.45  1,626.09  2,006.45  1,358.35  98,90,140  16,08,22,64,118.35   \n",
       "4  1,628.45  1,626.09  2,006.45  1,358.35  98,90,140  16,08,22,64,118.35   \n",
       "\n",
       "  No of trades                                              Title  \\\n",
       "0     2,66,112  Infosys, Wipro, TCS among tech giants blacklis...   \n",
       "1     2,66,112  Jefferies says 'buy' Infosys on attractive ris...   \n",
       "2     2,66,112  Infosys shares rise nearly 3% despite Jefferie...   \n",
       "3     2,66,112  TCS, HCLTech, Infosys, Wipro: Why IT stocks ar...   \n",
       "4     2,66,112  Stock Recommendations Today: Suzlon Energy, LI...   \n",
       "\n",
       "  Published Date  Sentiment Score  Sentiment_negative  Sentiment_neutral  \\\n",
       "0     2025-03-25         0.701625                True              False   \n",
       "1     2025-03-25         0.517249               False               True   \n",
       "2     2025-03-25         0.918781               False              False   \n",
       "3     2025-03-25         0.713755               False               True   \n",
       "4     2025-03-25         0.951364               False               True   \n",
       "\n",
       "   Sentiment_positive  \n",
       "0               False  \n",
       "1               False  \n",
       "2                True  \n",
       "3               False  \n",
       "4               False  "
      ]
     },
     "execution_count": 42,
     "metadata": {},
     "output_type": "execute_result"
    }
   ],
   "source": [
    "# inner join on the date column\n",
    "merged_data = pd.merge(nse_stock_data, news_data, left_on=\"Date\", right_on=\"Published Date\", how=\"inner\")\n",
    "merged_data.to_csv(\"Data/final_merged_data.csv\", index=False) # save the df\n",
    "merged_data.head()"
   ]
  },
  {
   "cell_type": "code",
   "execution_count": 41,
   "metadata": {},
   "outputs": [
    {
     "data": {
      "text/plain": [
       "(72, 20)"
      ]
     },
     "execution_count": 41,
     "metadata": {},
     "output_type": "execute_result"
    }
   ],
   "source": [
    "merged_data.shape"
   ]
  }
 ],
 "metadata": {
  "kernelspec": {
   "display_name": "Python 3",
   "language": "python",
   "name": "python3"
  },
  "language_info": {
   "codemirror_mode": {
    "name": "ipython",
    "version": 3
   },
   "file_extension": ".py",
   "mimetype": "text/x-python",
   "name": "python",
   "nbconvert_exporter": "python",
   "pygments_lexer": "ipython3",
   "version": "3.10.11"
  }
 },
 "nbformat": 4,
 "nbformat_minor": 2
}
